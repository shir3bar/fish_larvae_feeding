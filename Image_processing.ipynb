{
 "cells": [
  {
   "cell_type": "code",
   "execution_count": 1,
   "metadata": {},
   "outputs": [],
   "source": [
    "from imutils.video import FPS\n",
    "from imutils.video import FileVideoStream\n",
    "import os\n",
    "import cv2\n",
    "import numpy as np\n",
    "import matplotlib.pyplot as plt\n",
    "import seaborn as sns\n",
    "import pandas as pd\n",
    "import time\n",
    "from imutils.video import count_frames \n",
    "SHAPE = [1080,1920]\n",
    "vid_file='~/Google Drive File Stream/My Drive/proff/Holzman/Larvae_vids/03.06.20 13DPH.mp4'#23.02.2020 - frames 327651-611615.mp4'\n",
    "#28.11.2019 - frames 452348-452578.avi'\n",
    "#23.02.2020 - frames 484503-484953.avi'\n",
    "#11.12.2019 - frames 64935-65415.avi'#09.60.20 19DPH.mp4'\n",
    "#23.02.2020 - frames 332698-333038.avi'#03.06.20 13DPH.mp4'#23.02.2020 - frames 327651-611615.mp4'#11.12.2019.mp4'#'#\n",
    "output_vid_name='trial1.avi'"
   ]
  },
  {
   "cell_type": "code",
   "execution_count": 2,
   "metadata": {},
   "outputs": [],
   "source": [
    "def get_centroid(x, y, w, h):\n",
    "    \"\"\" Get bounding box centroid\"\"\"\n",
    "    x1 = int(w / 2)\n",
    "    y1 = int(h / 2)\n",
    "\n",
    "    cx = x + x1\n",
    "    cy = y + y1\n",
    "\n",
    "    return (cx, cy)\n",
    "def proximity(contour_list,contour):\n",
    "    curr_x, curr_y, curr_w, curr_h   = contour\n",
    "    too_close=[]\n",
    "    for i,neighbor in enumerate(contour_list):\n",
    "        nx, ny, nw, nh = neighbor[0]\n",
    "        if abs(curr_x-nx)<60 or abs(curr_y-ny)<60:\n",
    "            too_close.append(i)\n",
    "    return too_close\n",
    "\n",
    "def get_contours(image,min_width=50,min_height=50):\n",
    "    \"\"\" Get the blobs or contours detected in the image\n",
    "    input: \n",
    "    image - a frame\n",
    "    min_width - the minimal width of a blob, all blobs below threshold will be disregarded\n",
    "    min_height - the minimal width of a blob, all blobs below threshold will be disregarded\n",
    "    returns: \n",
    "    matches - a list of tuples, each tuple contains two tuples with information about each detected blob.\n",
    "        first tuple is the bounding box coordinates, width and height \n",
    "        second tuple contains the centroid coordinates\n",
    "    \"\"\"\n",
    "    matches = []\n",
    "    # find all contours/blobs in the frame:\n",
    "    contours, hierarchy = cv2.findContours(image, cv2.RETR_EXTERNAL, cv2.CHAIN_APPROX_TC89_L1)\n",
    "    for (i, contour) in enumerate(contours):\n",
    "        # for each detected object/blob/contour\n",
    "        # Get the bounding box:\n",
    "        (x, y, w, h) = cv2.boundingRect(contour)\n",
    "        # Filter by height and width:\n",
    "        contour_valid = (w >= min_width) and (\n",
    "                    h >= min_height)\n",
    "\n",
    "        if not contour_valid:\n",
    "            continue     \n",
    "        # Get bbox centroid:\n",
    "        centroid = get_centroid(x, y, w, h)\n",
    "        neighbors=proximity(matches,(x, y, w, h))\n",
    "        if neighbors:\n",
    "            for n in neighbors:\n",
    "                neighbor=matches.pop(n)\n",
    "                xn,yn,wn,hn =neighbor[0]\n",
    "                if xn>x:\n",
    "                    xn=x\n",
    "                if yn>y:\n",
    "                    yn=y \n",
    "                new_centroid=(round((centroid[0]+neighbor[1][0])/2), round((centroid[1]+neighbor[1][1])/2))\n",
    "                matches.append(((xn,yn,wn,hn),new_centroid))\n",
    "        \n",
    "        else:    \n",
    "            matches.append(((x, y, w, h), centroid))\n",
    "    return matches\n",
    "\n",
    "def draw_boxes(img, pathes):\n",
    "    \"\"\" Draw bounding boxes around objects in image\n",
    "    \"\"\"\n",
    "    BOUNDING_BOX_COLOUR = (255, 10, 0) #BGR\n",
    "    CENTROID_COLOUR = (255, 192, 0) #BGR\n",
    "    gray=cv2.cvtColor(img, cv2.COLOR_BGR2GRAY)\n",
    "    for (i, match) in enumerate(pathes):\n",
    "        contour, centroid = match\n",
    "        x, y, w, h = contour\n",
    "        subframe=gray[y:y+h,x:x+w]\n",
    "        lap=cv2.Laplacian(subframe, cv2.CV_64F).var()\n",
    "        cv2.rectangle(img, (x, y), (x + w - 1, y + h - 1),\n",
    "                          BOUNDING_BOX_COLOUR, 4)\n",
    "        cv2.circle(img, centroid, 2, CENTROID_COLOUR, -1)\n",
    "        #cv2.putText(img, f'{lap:.2f}', (x, y-10), cv2.FONT_HERSHEY_SIMPLEX, 0.9, (36,255,12), 2)\n",
    "    return img\n",
    "\n",
    "def get_filter(frame,bg_sub,brighten=True,blur=False):\n",
    "    \"\"\" Get the foreground mask for a frame\n",
    "    input:\n",
    "    frame - frame from video\n",
    "    bg_sub - an open-cv pre-trained background subtractor\n",
    "    brighten - bool, whether to adjust brightness in the image\n",
    "    blur - bool, whether to apply gaussian blur to remove background noise from the image\n",
    "    output:\n",
    "    combined - a foreground mask created by fine-tuning the background subtractor output with edge detection.\n",
    "    \"\"\"\n",
    "    gray=cv2.cvtColor(frame, cv2.COLOR_BGR2GRAY) #Turn to grayscale \n",
    "    denoise=cv2.GaussianBlur(gray,(71,71),0) \n",
    "    if blur:\n",
    "        # Apply gaussian blur to image\n",
    "        gray=denoise\n",
    "    if brighten:\n",
    "        # Apply brightness adjustment to image\n",
    "        gray=cv2.convertScaleAbs(gray, alpha=1, beta=50)\n",
    "    fg_mask = bg_sub.apply(gray, None, 0.001) # calculate foreground mask\n",
    "    img=cv2.Canny(denoise,10,10) # get edges from the blurred image to filter out small floating particles\n",
    "    kernel = cv2.getStructuringElement(cv2.MORPH_ELLIPSE, (10,10)) \n",
    "    closing = cv2.morphologyEx(img, cv2.MORPH_CLOSE, kernel) # fill in gaps in the edges\n",
    "    opening = cv2.morphologyEx(closing, cv2.MORPH_OPEN, kernel)\n",
    "    # Dilate to merge adjacent blobs\n",
    "    dilation = cv2.dilate(opening, kernel, iterations=2)\n",
    "    # get the areas that are detected by both the bg-sub and the edge detection routine:\n",
    "    combined=cv2.bitwise_and(fg_mask,closing) \n",
    "    return combined\n",
    "\n",
    "def train_bg_subtractor(cap, bg_sub, num, brighten=True, blur=False):\n",
    "    \"\"\" Pre-train the background subtractor.\n",
    "    input:\n",
    "    cap - video capture object, the video\n",
    "    bg_sub - background subtractor object\n",
    "    num - number of frames to train on\n",
    "    brighten - bool, whether to adjust brightness in the image\n",
    "    blur - bool, whether to apply gaussian blur to remove background noise from the image\n",
    "    output:\n",
    "    bg_sub - trained background subtractor\n",
    "    \"\"\"\n",
    "    for i in range(num):\n",
    "        # iterate over the selected number of frames\n",
    "        #ret,frame=cap.read() # get one frame\n",
    "        _,frame=cap.read()\n",
    "        gray=cv2.cvtColor(frame, cv2.COLOR_BGR2GRAY) # convert to grayscale \n",
    "        if brighten:\n",
    "            # modify brightness if applicable:\n",
    "            gray=cv2.convertScaleAbs(gray, alpha=1, beta=50)\n",
    "        if blur:\n",
    "            # apply gaussian blur if applicable:\n",
    "            gray=cv2.GaussianBlur(gray,(71,71),0)\n",
    "        fg_mask=bg_sub.apply(gray, None, 0.001) #apply bg_sub to the frame (modified or not)\n",
    "    return bg_sub \n",
    "\n",
    "def save_frame(frame, file_name, flip=True):\n",
    "    \"\"\" Save  frame as image\"\"\"\n",
    "    # flip BGR to RGB\n",
    "    if flip:\n",
    "        cv2.imwrite(file_name, np.flip(frame, 2))\n",
    "    else:\n",
    "        cv2.imwrite(file_name, frame)\n",
    "        \n",
    "        \n",
    "def process_vid(vid_name,output_vid,brighten=True,blur=False):\n",
    "    \"\"\" Detect objects in a single video and create a new video with the bounding boxes around objects.\n",
    "    input:\n",
    "    vid_name - path and filename of the input video\n",
    "    output_vid - path and filename for the generated video\n",
    "    brighten - bool, whether to adjust brightness in the image\n",
    "    blur - bool, whether to apply gaussian blur to remove background noise from the image\n",
    "    \"\"\"\n",
    "    # count the number of frames in the video, so we can determine the portion dedicated for training\n",
    "    # the background subtractor:\n",
    "    #num_frames=#count_frames(vid_name) \n",
    "    cap=cv2.VideoCapture(vid_name) # open video\n",
    "    train_frames=500#round(num_frames/4) # number of frames to pre-train the bg_sub on\n",
    "    bg_sub=cv2.createBackgroundSubtractorMOG2(history=train_frames,detectShadows=True) \n",
    "    bg_sub=train_bg_subtractor(cap, bg_sub,train_frames) # pre-training\n",
    "    # codec for video writing, see: https://www.pyimagesearch.com/2016/02/22/writing-to-video-with-opencv/\n",
    "    fourcc = cv2.VideoWriter_fourcc(*\"MJPG\") \n",
    "    # the video writer is defined by output filename, selected codec, the fps selected is the same as the input video, \n",
    "    # frame size that is also identical to input video, and a boolean specific whether to save a color video:\n",
    "    writer = cv2.VideoWriter(output_vid, fourcc, cap.get(cv2.CAP_PROP_FPS), (SHAPE[1], SHAPE[0]), True)\n",
    "    # iterate over the remaining frames:\n",
    "    while True:\n",
    "        grabbed,frame=cap.read() # get frame\n",
    "        if not grabbed:\n",
    "            break\n",
    "        mask=get_filter(frame,bg_sub) # get foreground mask\n",
    "        matches=get_contours(mask) # find objects inside the mask, get a list of their bounding boxes\n",
    "        img1=[] \n",
    "        img1=draw_boxes(frame,matches) # draw bounding boxes on original frame\n",
    "        img1 = cv2.cvtColor(img1, cv2.COLOR_BGR2RGB) # optional: open-cv work in BGR so convert back to RGB\n",
    "        writer.write(img1) # Write frame to the new video file\n",
    "        #fps.update()\n",
    "   # release resources:     \n",
    "    writer.release()\n",
    "    cap.release()\n",
    "\n",
    "\n",
    "    "
   ]
  },
  {
   "cell_type": "code",
   "execution_count": 42,
   "metadata": {},
   "outputs": [
    {
     "name": "stdout",
     "output_type": "stream",
     "text": [
      "[INFO] elasped time: 733.55\n",
      "[INFO] approx. FPS: 0.00\n"
     ]
    }
   ],
   "source": [
    "fps = FPS().start()\n",
    "process_vid(os.path.expanduser(vid_file),output_vid_name,brighten=False,blur=True)\n",
    "fps.stop()\n",
    "\n",
    "print(\"[INFO] elasped time: {:.2f}\".format(fps.elapsed()))\n",
    "print(\"[INFO] approx. FPS: {:.2f}\".format(fps.fps()))"
   ]
  },
  {
   "cell_type": "code",
   "execution_count": 84,
   "metadata": {},
   "outputs": [
    {
     "name": "stdout",
     "output_type": "stream",
     "text": [
      "[((276, 976, 111, 76), (331, 1014)), ((225, 173, 63, 77), (256, 211)), ((431, 93, 99, 68), (480, 127)), ((1794, 69, 111, 50), (1849, 94))]\n"
     ]
    },
    {
     "data": {
      "text/plain": [
       "<matplotlib.image.AxesImage at 0x1664075e0>"
      ]
     },
     "execution_count": 84,
     "metadata": {},
     "output_type": "execute_result"
    },
    {
     "data": {
      "image/png": "[encoded data removed]",
      "text/plain": [
       "<Figure size 432x288 with 1 Axes>"
      ]
     },
     "metadata": {
      "needs_background": "light"
     },
     "output_type": "display_data"
    }
   ],
   "source": [
    "print(matches)\n",
    "#plt.imshow(img1[276:(276+111)][976:(976+76)])\n",
    "img1.shape\n",
    "plt.imshow(img1[0:(94+500),1349:(1849+500)])\n",
    "plt.imshow(img1[(514-500):1514,0:831])\n",
    "#plt.imshow(img1)"
   ]
  },
  {
   "cell_type": "code",
   "execution_count": 62,
   "metadata": {},
   "outputs": [
    {
     "data": {
      "text/plain": [
       "<matplotlib.image.AxesImage at 0x18c16bbe0>"
      ]
     },
     "execution_count": 62,
     "metadata": {},
     "output_type": "execute_result"
    },
    {
     "data": {
      "image/png": "[encoded data removed]",
      "text/plain": [
       "<Figure size 432x288 with 1 Axes>"
      ]
     },
     "metadata": {
      "needs_background": "light"
     },
     "output_type": "display_data"
    }
   ],
   "source": [
    "fvs = FileVideoStream(os.path.expanduser(vid_file)).start()\n",
    "img=fvs.read()\n",
    "plt.imshow(img)"
   ]
  },
  {
   "cell_type": "code",
   "execution_count": 63,
   "metadata": {},
   "outputs": [],
   "source": [
    "msk=get_filter(img,bg_sub)\n",
    "#conts=get_contours(msk)\n",
    "#im2=draw_boxes(img,conts)"
   ]
  },
  {
   "cell_type": "code",
   "execution_count": 64,
   "metadata": {},
   "outputs": [
    {
     "data": {
      "text/plain": [
       "<matplotlib.image.AxesImage at 0x1895e6070>"
      ]
     },
     "execution_count": 64,
     "metadata": {},
     "output_type": "execute_result"
    },
    {
     "data": {
      "image/png": "[encoded data removed]",
      "text/plain": [
       "<Figure size 432x288 with 1 Axes>"
      ]
     },
     "metadata": {
      "needs_background": "light"
     },
     "output_type": "display_data"
    }
   ],
   "source": [
    "plt.imshow(msk)"
   ]
  },
  {
   "cell_type": "code",
   "execution_count": 44,
   "metadata": {},
   "outputs": [],
   "source": [
    "# cut out an example vid for Roi\n",
    "c=cv2.VideoCapture(output_vid_name)\n",
    "images=[]\n",
    "fourcc = cv2.VideoWriter_fourcc(*\"MJPG\") \n",
    "writer = cv2.VideoWriter('fish_example.avi', fourcc, 60, (SHAPE[1], SHAPE[0]), True)\n",
    "\n",
    "for i in range(450):\n",
    "    _,frame=c.read()\n",
    "    #frame = cv2.cvtColor(frame, cv2.COLOR_BGR2RGB)\n",
    "    writer.write(frame)\n",
    "    #images.append(Image.fromarray(frame))\n",
    "writer.release()\n",
    "c.release()\n",
    "#images[0].save('fish.gif',\n",
    " #              save_all=True, append_images=images[1:], optimize=False, duration=40, loop=0)"
   ]
  },
  {
   "cell_type": "code",
   "execution_count": 23,
   "metadata": {},
   "outputs": [
    {
     "name": "stdout",
     "output_type": "stream",
     "text": [
      "[INFO] starting video file thread...\n"
     ]
    },
    {
     "ename": "NameError",
     "evalue": "name 'process_vid' is not defined",
     "output_type": "error",
     "traceback": [
      "\u001b[0;31m---------------------------------------------------------------------------\u001b[0m",
      "\u001b[0;31mNameError\u001b[0m                                 Traceback (most recent call last)",
      "\u001b[0;32m<ipython-input-23-b6fd870494dc>\u001b[0m in \u001b[0;36m<module>\u001b[0;34m\u001b[0m\n\u001b[1;32m     67\u001b[0m \u001b[0mprint\u001b[0m\u001b[0;34m(\u001b[0m\u001b[0;34m\"[INFO] starting video file thread...\"\u001b[0m\u001b[0;34m)\u001b[0m\u001b[0;34m\u001b[0m\u001b[0;34m\u001b[0m\u001b[0m\n\u001b[1;32m     68\u001b[0m \u001b[0mfps\u001b[0m \u001b[0;34m=\u001b[0m \u001b[0mFPS\u001b[0m\u001b[0;34m(\u001b[0m\u001b[0;34m)\u001b[0m\u001b[0;34m.\u001b[0m\u001b[0mstart\u001b[0m\u001b[0;34m(\u001b[0m\u001b[0;34m)\u001b[0m\u001b[0;31m# loop over frames from the video file stream\u001b[0m\u001b[0;34m\u001b[0m\u001b[0;34m\u001b[0m\u001b[0m\n\u001b[0;32m---> 69\u001b[0;31m \u001b[0mprocess_vid\u001b[0m\u001b[0;34m(\u001b[0m\u001b[0mos\u001b[0m\u001b[0;34m.\u001b[0m\u001b[0mpath\u001b[0m\u001b[0;34m.\u001b[0m\u001b[0mexpanduser\u001b[0m\u001b[0;34m(\u001b[0m\u001b[0mvid_file\u001b[0m\u001b[0;34m)\u001b[0m\u001b[0;34m,\u001b[0m\u001b[0moutput_vid_name\u001b[0m\u001b[0;34m,\u001b[0m\u001b[0mbrighten\u001b[0m\u001b[0;34m=\u001b[0m\u001b[0;32mFalse\u001b[0m\u001b[0;34m,\u001b[0m\u001b[0mblur\u001b[0m\u001b[0;34m=\u001b[0m\u001b[0;32mTrue\u001b[0m\u001b[0;34m)\u001b[0m\u001b[0;34m\u001b[0m\u001b[0;34m\u001b[0m\u001b[0m\n\u001b[0m\u001b[1;32m     70\u001b[0m \u001b[0mfps\u001b[0m\u001b[0;34m.\u001b[0m\u001b[0mstop\u001b[0m\u001b[0;34m(\u001b[0m\u001b[0;34m)\u001b[0m\u001b[0;34m\u001b[0m\u001b[0;34m\u001b[0m\u001b[0m\n\u001b[1;32m     71\u001b[0m \u001b[0mprint\u001b[0m\u001b[0;34m(\u001b[0m\u001b[0;34m\"[INFO] elasped time: {:.2f}\"\u001b[0m\u001b[0;34m.\u001b[0m\u001b[0mformat\u001b[0m\u001b[0;34m(\u001b[0m\u001b[0mfps\u001b[0m\u001b[0;34m.\u001b[0m\u001b[0melapsed\u001b[0m\u001b[0;34m(\u001b[0m\u001b[0;34m)\u001b[0m\u001b[0;34m)\u001b[0m\u001b[0;34m)\u001b[0m\u001b[0;34m\u001b[0m\u001b[0;34m\u001b[0m\u001b[0m\n",
      "\u001b[0;31mNameError\u001b[0m: name 'process_vid' is not defined"
     ]
    }
   ],
   "source": [
    "def train_bg_subtractor2(cap, bg_sub, num, brighten=True, blur=False):\n",
    "    \"\"\" Pre-train the background subtractor.\n",
    "    input:\n",
    "    cap - video capture object, the video\n",
    "    bg_sub - background subtractor object\n",
    "    num - number of frames to train on\n",
    "    brighten - bool, whether to adjust brightness in the image\n",
    "    blur - bool, whether to apply gaussian blur to remove background noise from the image\n",
    "    output:\n",
    "    bg_sub - trained background subtractor\n",
    "    \"\"\"\n",
    "    for i in range(num):\n",
    "        # iterate over the selected number of frames\n",
    "        #ret,frame=cap.read() # get one frame\n",
    "        frame=cap.read()\n",
    "        gray=cv2.cvtColor(frame, cv2.COLOR_BGR2GRAY) # convert to grayscale \n",
    "        if brighten:\n",
    "            # modify brightness if applicable:\n",
    "            gray=cv2.convertScaleAbs(gray, alpha=1, beta=50)\n",
    "        if blur:\n",
    "            # apply gaussian blur if applicable:\n",
    "            gray=cv2.GaussianBlur(gray,(71,71),0)\n",
    "        fg_mask=bg_sub.apply(gray, None, 0.001) #apply bg_sub to the frame (modified or not)\n",
    "    return bg_sub \n",
    "\n",
    "\n",
    "def process_vid2(vid_name,output_vid,brighten=True,blur=False):\n",
    "    num_frames=count_frames(os.path.expanduser(vid_file)) \n",
    "    train_frames=round(num_frames/4) # number of frames to pre-train the bg_sub on\n",
    "    bg_sub=cv2.createBackgroundSubtractorMOG2(history=train_frames,detectShadows=True) \n",
    "\n",
    "    fvs = FileVideoStream(vid_name).start()\n",
    "    bg_sub=train_bg_subtractor2(fvs, bg_sub,train_frames)\n",
    "    time.sleep(1.0)\n",
    "    # start the FPS timer\n",
    "    fourcc = cv2.VideoWriter_fourcc(*\"MJPG\") \n",
    "    # the video writer is defined by output filename, selected codec, the fps selected is the same as the input video, \n",
    "    # frame size that is also identical to input video, and a boolean specific whether to save a color video:\n",
    "    writer = cv2.VideoWriter(output_vid, fourcc, 30, (SHAPE[1], SHAPE[0]), True)\n",
    "    \n",
    "    while fvs.more():\n",
    "        # grab the frame from the threaded video file stream, resize\n",
    "        # it, and convert it to grayscale (while still retaining 3\n",
    "        # channels)\n",
    "        frame = fvs.read()\n",
    "\n",
    "        if frame is None:\n",
    "            break\n",
    "\n",
    "        mask=get_filter(frame,bg_sub) # get foreground mask\n",
    "        matches=get_contours(mask) # find objects inside the mask, get a list of their bounding boxes\n",
    "        img1=[] \n",
    "        img1=draw_boxes(frame,matches) # draw bounding boxes on original frame\n",
    "        img1 = cv2.cvtColor(img1, cv2.COLOR_BGR2RGB) # optional: open-cv work in BGR so convert back to RGB\n",
    "        writer.write(img1) # Write frame to the new video file\n",
    "        fps.update()\n",
    "        # display the size of the queue on the frame\n",
    "        #cv2.putText(frame, \"Queue Size: {}\".format(fvs.Q.qsize()),\n",
    "         #   (10, 30), cv2.FONT_HERSHEY_SIMPLEX, 0.6, (0, 255, 0), 2)\n",
    "        # show the frame and update the FPS counter\n",
    "        #cv2.imshow(\"Frame\", frame)\n",
    "        #cv2.waitKey(1)\n",
    "    \n",
    "    # stop the timer and display FPS information\n",
    "    \n",
    "\n",
    "print(\"[INFO] starting video file thread...\")\n",
    "fps = FPS().start()# loop over frames from the video file stream\n",
    "process_vid(os.path.expanduser(vid_file),output_vid_name,brighten=False,blur=True)\n",
    "fps.stop()\n",
    "print(\"[INFO] elasped time: {:.2f}\".format(fps.elapsed()))\n",
    "print(\"[INFO] approx. FPS: {:.2f}\".format(fps.fps()))\n",
    "# do a bit of cleanup\n",
    "cv2.destroyAllWindows()\n",
    "fvs.stop()"
   ]
  },
  {
   "cell_type": "code",
   "execution_count": 30,
   "metadata": {},
   "outputs": [
    {
     "data": {
      "text/plain": [
       "<matplotlib.image.AxesImage at 0x130990d00>"
      ]
     },
     "execution_count": 30,
     "metadata": {},
     "output_type": "execute_result"
    },
    {
     "data": {
      "image/png": "[encoded data removed]",
      "text/plain": [
       "<Figure size 432x288 with 1 Axes>"
      ]
     },
     "metadata": {
      "needs_background": "light"
     },
     "output_type": "display_data"
    }
   ],
   "source": [
    "plt.imshow(img1)"
   ]
  },
  {
   "cell_type": "code",
   "execution_count": 63,
   "metadata": {},
   "outputs": [
    {
     "data": {
      "text/plain": [
       "30"
      ]
     },
     "execution_count": 63,
     "metadata": {},
     "output_type": "execute_result"
    }
   ],
   "source": [
    "count_frames('fish_example.avi')\n"
   ]
  },
  {
   "cell_type": "code",
   "execution_count": 82,
   "metadata": {},
   "outputs": [
    {
     "data": {
      "text/plain": [
       "40"
      ]
     },
     "execution_count": 82,
     "metadata": {},
     "output_type": "execute_result"
    }
   ],
   "source": []
  },
  {
   "cell_type": "code",
   "execution_count": 32,
   "metadata": {},
   "outputs": [
    {
     "name": "stdout",
     "output_type": "stream",
     "text": [
      "[INFO] elasped time: 142.93\n",
      "[INFO] approx. FPS: 39.17\n"
     ]
    }
   ],
   "source": [
    "PADDING_SIZE=250\n",
    "MOVIE_FPS=30\n",
    "\n",
    "folder_name=''.join(vid_file.split(os.path.sep)[-1].split('.')[0:-1])\n",
    "try:\n",
    "    os.mkdir(folder_name)\n",
    "except FileExistsError:\n",
    "    folder_name=folder_name+'2'\n",
    "    os.mkdir(folder_name)\n",
    "MOVIE_FORMAT='.avi'\n",
    "#num_frames=count_frames(os.path.expanduser(vid_file)) \n",
    "train_frames=500#round(num_frames/4) # number of frames to pre-train the bg_sub on\n",
    "cap=cv2.VideoCapture(os.path.expanduser(vid_file))\n",
    "bg_sub=cv2.createBackgroundSubtractorMOG2(history=train_frames,detectShadows=True) \n",
    "fps = FPS().start()# loop over frames from the video file stream\n",
    "bg_sub=train_bg_subtractor(cap, bg_sub,train_frames) # pre-training\n",
    "counter=0\n",
    "movie_counter=0\n",
    "contour_dict={}\n",
    "movie_dict={}\n",
    "MOVIE_NAME='cutout_'\n",
    "fourcc = cv2.VideoWriter_fourcc(*\"MJPG\")\n",
    "med_laplacian=[]\n",
    "log=pd.DataFrame(columns=['movie_name','frame','coordinates','label'])\n",
    "idx=0\n",
    "while True:\n",
    "    grabbed,frame=cap.read() # get frame\n",
    "    if not grabbed:\n",
    "        break\n",
    "    if counter%80 == 0:\n",
    "        mask=get_filter(frame,bg_sub) # get foreground mask\n",
    "        matches=get_contours(mask) # find objects inside the mask, get a list of their bounding boxes\n",
    "        movie_counter=0\n",
    "        for match in matches:\n",
    "            contour, centroid = match\n",
    "            #x, y, w, h = contour\n",
    "            #subframe=frame[y:y+h,x:x+w]\n",
    "            #subframe=cv2.cvtColor(subframe, cv2.COLOR_BGR2GRAY)\n",
    "            #lap=cv2.Laplacian(subframe, cv2.CV_64F).var()\n",
    "            #if lap>3.5:\n",
    "            if match not in contour_dict.keys():\n",
    "                x1=centroid[1]-PADDING_SIZE\n",
    "                if x1<0:\n",
    "                    x1=0\n",
    "                x2=centroid[1]+PADDING_SIZE\n",
    "                if x2>SHAPE[0]:\n",
    "                    x2=SHAPE[0]\n",
    "                y1=centroid[0]-PADDING_SIZE\n",
    "                if y1<0:\n",
    "                    y1=0\n",
    "                y2=centroid[0]+PADDING_SIZE\n",
    "                if y2>SHAPE[1]:\n",
    "                    y2=SHAPE[1]\n",
    "                contour_dict[match]=[(x1,x2),(y1,y2),0,[]]\n",
    "                new_name=MOVIE_NAME+'frame'+str(counter)+'fish'+str(movie_counter)+MOVIE_FORMAT\n",
    "                movie_path=folder_name+os.path.sep+new_name\n",
    "                movie_dict[match]=[cv2.VideoWriter(movie_path, fourcc,\n",
    "                                                MOVIE_FPS, (PADDING_SIZE*2, PADDING_SIZE*2), False), movie_path]\n",
    "                log.loc[idx,:]={'movie_name':new_name,'frame':counter,'coordinates':centroid,'label':None}\n",
    "                idx+=1\n",
    "                movie_counter+=1\n",
    "                \n",
    "    for key in list(contour_dict):\n",
    "        entry=contour_dict[key]\n",
    "        if entry[2]==101:\n",
    "            med_laplacian.append(np.mean(entry[3]))\n",
    "            contour_dict.pop(key)\n",
    "            tmp=movie_dict.pop(key)\n",
    "            \n",
    "            tmp[0].release()\n",
    "            if med_laplacian[-1]<4:\n",
    "                os.remove(tmp[1])\n",
    "                log.drop(log[log.movie_name==tmp[1]].index,inplace=True)\n",
    "            continue\n",
    "        cutout=[]\n",
    "        contour, centroid = match\n",
    "        x, y, w, h = contour\n",
    "        subframe=frame[y:y+h,x:x+w]\n",
    "        subframe=cv2.cvtColor(subframe, cv2.COLOR_BGR2GRAY)\n",
    "        lap=cv2.Laplacian(subframe, cv2.CV_64F).var()\n",
    "        cutout=frame[entry[0][0]:entry[0][1],entry[1][0]:entry[1][1]]\n",
    "        cutout=cv2.cvtColor(cutout, cv2.COLOR_BGR2GRAY)\n",
    "        #lap=cv2.Laplacian(cutout, cv2.CV_64F).var()\n",
    "        entry[3].append(lap)\n",
    "        output = np.zeros((PADDING_SIZE * 2, PADDING_SIZE * 2), dtype=\"uint8\")\n",
    "        output[0:cutout.shape[0],0:cutout.shape[1]]=cutout\n",
    "        movie_dict[key][0].write(output)\n",
    "        entry[2]+=1\n",
    "    counter+=1\n",
    "    fps.update()\n",
    "for movie in movie_dict.values():\n",
    "    movie[0].release()\n",
    "cap.release()\n",
    "fps.stop()\n",
    "log.to_csv(folder_name+os.path.sep+'log.csv',index=False)\n",
    "\n",
    "print(\"[INFO] elasped time: {:.2f}\".format(fps.elapsed()))\n",
    "print(\"[INFO] approx. FPS: {:.2f}\".format(fps.fps()))        \n"
   ]
  },
  {
   "cell_type": "code",
   "execution_count": 56,
   "metadata": {},
   "outputs": [],
   "source": [
    "log.drop(log[log.movie_name=='fish_cutoutframe0fish0.avi'].index,inplace=True)"
   ]
  },
  {
   "cell_type": "markdown",
   "metadata": {},
   "source": [
    "[INFO] elasped time: 106.26\n",
    "[INFO] approx. FPS: 43.05"
   ]
  },
  {
   "cell_type": "code",
   "execution_count": 37,
   "metadata": {},
   "outputs": [
    {
     "data": {
      "text/html": [
       "<div>\n",
       "<style scoped>\n",
       "    .dataframe tbody tr th:only-of-type {\n",
       "        vertical-align: middle;\n",
       "    }\n",
       "\n",
       "    .dataframe tbody tr th {\n",
       "        vertical-align: top;\n",
       "    }\n",
       "\n",
       "    .dataframe thead th {\n",
       "        text-align: right;\n",
       "    }\n",
       "</style>\n",
       "<table border=\"1\" class=\"dataframe\">\n",
       "  <thead>\n",
       "    <tr style=\"text-align: right;\">\n",
       "      <th></th>\n",
       "      <th>movie_name</th>\n",
       "      <th>frame</th>\n",
       "      <th>coordinates</th>\n",
       "      <th>label</th>\n",
       "    </tr>\n",
       "  </thead>\n",
       "  <tbody>\n",
       "    <tr>\n",
       "      <th>0</th>\n",
       "      <td>cutout_frame0fish0.avi</td>\n",
       "      <td>0</td>\n",
       "      <td>(864, 702)</td>\n",
       "      <td>None</td>\n",
       "    </tr>\n",
       "    <tr>\n",
       "      <th>1</th>\n",
       "      <td>cutout_frame0fish1.avi</td>\n",
       "      <td>0</td>\n",
       "      <td>(941, 411)</td>\n",
       "      <td>None</td>\n",
       "    </tr>\n",
       "    <tr>\n",
       "      <th>2</th>\n",
       "      <td>cutout_frame80fish0.avi</td>\n",
       "      <td>80</td>\n",
       "      <td>(480, 892)</td>\n",
       "      <td>None</td>\n",
       "    </tr>\n",
       "    <tr>\n",
       "      <th>3</th>\n",
       "      <td>cutout_frame80fish1.avi</td>\n",
       "      <td>80</td>\n",
       "      <td>(1630, 670)</td>\n",
       "      <td>None</td>\n",
       "    </tr>\n",
       "    <tr>\n",
       "      <th>4</th>\n",
       "      <td>cutout_frame80fish2.avi</td>\n",
       "      <td>80</td>\n",
       "      <td>(1071, 411)</td>\n",
       "      <td>None</td>\n",
       "    </tr>\n",
       "  </tbody>\n",
       "</table>\n",
       "</div>"
      ],
      "text/plain": [
       "                movie_name frame  coordinates label\n",
       "0   cutout_frame0fish0.avi     0   (864, 702)  None\n",
       "1   cutout_frame0fish1.avi     0   (941, 411)  None\n",
       "2  cutout_frame80fish0.avi    80   (480, 892)  None\n",
       "3  cutout_frame80fish1.avi    80  (1630, 670)  None\n",
       "4  cutout_frame80fish2.avi    80  (1071, 411)  None"
      ]
     },
     "execution_count": 37,
     "metadata": {},
     "output_type": "execute_result"
    }
   ],
   "source": [
    "log.head()"
   ]
  },
  {
   "cell_type": "code",
   "execution_count": 44,
   "metadata": {},
   "outputs": [],
   "source": [
    "log.loc[log.movie_name=='cutout_frame0fish0.avi'].label.values[0]"
   ]
  },
  {
   "cell_type": "code",
   "execution_count": 101,
   "metadata": {},
   "outputs": [
    {
     "data": {
      "text/plain": [
       "{}"
      ]
     },
     "execution_count": 101,
     "metadata": {},
     "output_type": "execute_result"
    }
   ],
   "source": [
    "movie_dict"
   ]
  },
  {
   "cell_type": "code",
   "execution_count": 105,
   "metadata": {},
   "outputs": [
    {
     "data": {
      "text/plain": [
       "213"
      ]
     },
     "execution_count": 105,
     "metadata": {},
     "output_type": "execute_result"
    }
   ],
   "source": [
    "movie_counter"
   ]
  },
  {
   "cell_type": "raw",
   "metadata": {},
   "source": [
    "print(tmp_dict)"
   ]
  },
  {
   "cell_type": "code",
   "execution_count": 61,
   "metadata": {},
   "outputs": [
    {
     "data": {
      "text/plain": [
       "'03.06.20 13DPH.mp4'"
      ]
     },
     "execution_count": 61,
     "metadata": {},
     "output_type": "execute_result"
    }
   ],
   "source": [
    "vid_file.split('/')[-1]"
   ]
  },
  {
   "cell_type": "code",
   "execution_count": 9,
   "metadata": {},
   "outputs": [
    {
     "data": {
      "text/plain": [
       "[(452, 952), (1457, 1957), 101]"
      ]
     },
     "execution_count": 9,
     "metadata": {},
     "output_type": "execute_result"
    }
   ],
   "source": [
    "tmp_dict[0]"
   ]
  },
  {
   "cell_type": "code",
   "execution_count": 5,
   "metadata": {},
   "outputs": [
    {
     "data": {
      "text/plain": [
       "{0: [(0, 470), (1492, 1992), 101],\n",
       " 1: [(0, 476), (1401, 1901), 101],\n",
       " 2: [(0, 463), (1293, 1793), 101],\n",
       " 3: [(42, 542), (1088, 1588), 101],\n",
       " 4: [(0, 492), (1024, 1524), 41],\n",
       " 5: [(0, 389), (743, 1243), 41]}"
      ]
     },
     "execution_count": 5,
     "metadata": {},
     "output_type": "execute_result"
    }
   ],
   "source": [
    "tmp_dict"
   ]
  },
  {
   "cell_type": "code",
   "execution_count": 31,
   "metadata": {},
   "outputs": [
    {
     "ename": "ValueError",
     "evalue": "Lengths must match to compare",
     "output_type": "error",
     "traceback": [
      "\u001b[0;31m---------------------------------------------------------------------------\u001b[0m",
      "\u001b[0;31mValueError\u001b[0m                                Traceback (most recent call last)",
      "\u001b[0;32m<ipython-input-31-816ad0135996>\u001b[0m in \u001b[0;36m<module>\u001b[0;34m\u001b[0m\n\u001b[0;32m----> 1\u001b[0;31m \u001b[0mlog\u001b[0m\u001b[0;34m[\u001b[0m\u001b[0mlog\u001b[0m\u001b[0;34m.\u001b[0m\u001b[0mmovie_name\u001b[0m\u001b[0;34m==\u001b[0m\u001b[0mtitles_to_remove\u001b[0m\u001b[0;34m]\u001b[0m\u001b[0;34m\u001b[0m\u001b[0;34m\u001b[0m\u001b[0m\n\u001b[0m",
      "\u001b[0;32m/opt/anaconda3/lib/python3.8/site-packages/pandas/core/ops/common.py\u001b[0m in \u001b[0;36mnew_method\u001b[0;34m(self, other)\u001b[0m\n\u001b[1;32m     62\u001b[0m         \u001b[0mother\u001b[0m \u001b[0;34m=\u001b[0m \u001b[0mitem_from_zerodim\u001b[0m\u001b[0;34m(\u001b[0m\u001b[0mother\u001b[0m\u001b[0;34m)\u001b[0m\u001b[0;34m\u001b[0m\u001b[0;34m\u001b[0m\u001b[0m\n\u001b[1;32m     63\u001b[0m \u001b[0;34m\u001b[0m\u001b[0m\n\u001b[0;32m---> 64\u001b[0;31m         \u001b[0;32mreturn\u001b[0m \u001b[0mmethod\u001b[0m\u001b[0;34m(\u001b[0m\u001b[0mself\u001b[0m\u001b[0;34m,\u001b[0m \u001b[0mother\u001b[0m\u001b[0;34m)\u001b[0m\u001b[0;34m\u001b[0m\u001b[0;34m\u001b[0m\u001b[0m\n\u001b[0m\u001b[1;32m     65\u001b[0m \u001b[0;34m\u001b[0m\u001b[0m\n\u001b[1;32m     66\u001b[0m     \u001b[0;32mreturn\u001b[0m \u001b[0mnew_method\u001b[0m\u001b[0;34m\u001b[0m\u001b[0;34m\u001b[0m\u001b[0m\n",
      "\u001b[0;32m/opt/anaconda3/lib/python3.8/site-packages/pandas/core/ops/__init__.py\u001b[0m in \u001b[0;36mwrapper\u001b[0;34m(self, other)\u001b[0m\n\u001b[1;32m    527\u001b[0m         \u001b[0mrvalues\u001b[0m \u001b[0;34m=\u001b[0m \u001b[0mextract_array\u001b[0m\u001b[0;34m(\u001b[0m\u001b[0mother\u001b[0m\u001b[0;34m,\u001b[0m \u001b[0mextract_numpy\u001b[0m\u001b[0;34m=\u001b[0m\u001b[0;32mTrue\u001b[0m\u001b[0;34m)\u001b[0m\u001b[0;34m\u001b[0m\u001b[0;34m\u001b[0m\u001b[0m\n\u001b[1;32m    528\u001b[0m \u001b[0;34m\u001b[0m\u001b[0m\n\u001b[0;32m--> 529\u001b[0;31m         \u001b[0mres_values\u001b[0m \u001b[0;34m=\u001b[0m \u001b[0mcomparison_op\u001b[0m\u001b[0;34m(\u001b[0m\u001b[0mlvalues\u001b[0m\u001b[0;34m,\u001b[0m \u001b[0mrvalues\u001b[0m\u001b[0;34m,\u001b[0m \u001b[0mop\u001b[0m\u001b[0;34m)\u001b[0m\u001b[0;34m\u001b[0m\u001b[0;34m\u001b[0m\u001b[0m\n\u001b[0m\u001b[1;32m    530\u001b[0m \u001b[0;34m\u001b[0m\u001b[0m\n\u001b[1;32m    531\u001b[0m         \u001b[0;32mreturn\u001b[0m \u001b[0m_construct_result\u001b[0m\u001b[0;34m(\u001b[0m\u001b[0mself\u001b[0m\u001b[0;34m,\u001b[0m \u001b[0mres_values\u001b[0m\u001b[0;34m,\u001b[0m \u001b[0mindex\u001b[0m\u001b[0;34m=\u001b[0m\u001b[0mself\u001b[0m\u001b[0;34m.\u001b[0m\u001b[0mindex\u001b[0m\u001b[0;34m,\u001b[0m \u001b[0mname\u001b[0m\u001b[0;34m=\u001b[0m\u001b[0mres_name\u001b[0m\u001b[0;34m)\u001b[0m\u001b[0;34m\u001b[0m\u001b[0;34m\u001b[0m\u001b[0m\n",
      "\u001b[0;32m/opt/anaconda3/lib/python3.8/site-packages/pandas/core/ops/array_ops.py\u001b[0m in \u001b[0;36mcomparison_op\u001b[0;34m(left, right, op)\u001b[0m\n\u001b[1;32m    232\u001b[0m         \u001b[0;31m#  The ambiguous case is object-dtype.  See GH#27803\u001b[0m\u001b[0;34m\u001b[0m\u001b[0;34m\u001b[0m\u001b[0;34m\u001b[0m\u001b[0m\n\u001b[1;32m    233\u001b[0m         \u001b[0;32mif\u001b[0m \u001b[0mlen\u001b[0m\u001b[0;34m(\u001b[0m\u001b[0mlvalues\u001b[0m\u001b[0;34m)\u001b[0m \u001b[0;34m!=\u001b[0m \u001b[0mlen\u001b[0m\u001b[0;34m(\u001b[0m\u001b[0mrvalues\u001b[0m\u001b[0;34m)\u001b[0m\u001b[0;34m:\u001b[0m\u001b[0;34m\u001b[0m\u001b[0;34m\u001b[0m\u001b[0m\n\u001b[0;32m--> 234\u001b[0;31m             \u001b[0;32mraise\u001b[0m \u001b[0mValueError\u001b[0m\u001b[0;34m(\u001b[0m\u001b[0;34m\"Lengths must match to compare\"\u001b[0m\u001b[0;34m)\u001b[0m\u001b[0;34m\u001b[0m\u001b[0;34m\u001b[0m\u001b[0m\n\u001b[0m\u001b[1;32m    235\u001b[0m \u001b[0;34m\u001b[0m\u001b[0m\n\u001b[1;32m    236\u001b[0m     \u001b[0;32mif\u001b[0m \u001b[0mshould_extension_dispatch\u001b[0m\u001b[0;34m(\u001b[0m\u001b[0mlvalues\u001b[0m\u001b[0;34m,\u001b[0m \u001b[0mrvalues\u001b[0m\u001b[0;34m)\u001b[0m\u001b[0;34m:\u001b[0m\u001b[0;34m\u001b[0m\u001b[0;34m\u001b[0m\u001b[0m\n",
      "\u001b[0;31mValueError\u001b[0m: Lengths must match to compare"
     ]
    }
   ],
   "source": [
    "log[log.movie_name==titles_to_remove]\n"
   ]
  },
  {
   "cell_type": "code",
   "execution_count": 15,
   "metadata": {},
   "outputs": [
    {
     "data": {
      "text/plain": [
       "<VideoWriter 0x131a44c10>"
      ]
     },
     "execution_count": 15,
     "metadata": {},
     "output_type": "execute_result"
    }
   ],
   "source": [
    "tmp"
   ]
  },
  {
   "cell_type": "code",
   "execution_count": 36,
   "metadata": {},
   "outputs": [
    {
     "data": {
      "text/plain": [
       "<matplotlib.image.AxesImage at 0x13c03bfa0>"
      ]
     },
     "execution_count": 36,
     "metadata": {},
     "output_type": "execute_result"
    },
    {
     "data": {
      "image/png": "[encoded data removed]",
      "text/plain": [
       "<Figure size 432x288 with 1 Axes>"
      ]
     },
     "metadata": {
      "needs_background": "light"
     },
     "output_type": "display_data"
    }
   ],
   "source": [
    "plt.imshow(cutout)"
   ]
  },
  {
   "cell_type": "code",
   "execution_count": 6,
   "metadata": {},
   "outputs": [
    {
     "data": {
      "text/plain": [
       "(array([  56.,  863., 1452.,  791.,  360.,  138.,   67.,   27.,    4.,\n",
       "           4.]),\n",
       " array([ 1.27706972,  2.19177917,  3.10648863,  4.02119809,  4.93590754,\n",
       "         5.850617  ,  6.76532646,  7.68003591,  8.59474537,  9.50945483,\n",
       "        10.42416428]),\n",
       " <a list of 10 Patch objects>)"
      ]
     },
     "execution_count": 6,
     "metadata": {},
     "output_type": "execute_result"
    },
    {
     "data": {
      "image/png": "[encoded data removed]",
      "text/plain": [
       "<Figure size 432x288 with 1 Axes>"
      ]
     },
     "metadata": {
      "needs_background": "light"
     },
     "output_type": "display_data"
    }
   ],
   "source": [
    "plt.hist(med_laplacian)"
   ]
  },
  {
   "cell_type": "code",
   "execution_count": 34,
   "metadata": {},
   "outputs": [
    {
     "ename": "TypeError",
     "evalue": "'NoneType' object is not subscriptable",
     "output_type": "error",
     "traceback": [
      "\u001b[0;31m---------------------------------------------------------------------------\u001b[0m",
      "\u001b[0;31mTypeError\u001b[0m                                 Traceback (most recent call last)",
      "\u001b[0;32m<ipython-input-34-df94255c3445>\u001b[0m in \u001b[0;36m<module>\u001b[0;34m\u001b[0m\n\u001b[0;32m----> 1\u001b[0;31m \u001b[0mcutout\u001b[0m\u001b[0;34m=\u001b[0m\u001b[0mframe\u001b[0m\u001b[0;34m[\u001b[0m\u001b[0mentry\u001b[0m\u001b[0;34m[\u001b[0m\u001b[0;36m0\u001b[0m\u001b[0;34m]\u001b[0m\u001b[0;34m[\u001b[0m\u001b[0;36m0\u001b[0m\u001b[0;34m]\u001b[0m\u001b[0;34m:\u001b[0m\u001b[0mentry\u001b[0m\u001b[0;34m[\u001b[0m\u001b[0;36m0\u001b[0m\u001b[0;34m]\u001b[0m\u001b[0;34m[\u001b[0m\u001b[0;36m1\u001b[0m\u001b[0;34m]\u001b[0m\u001b[0;34m,\u001b[0m\u001b[0mentry\u001b[0m\u001b[0;34m[\u001b[0m\u001b[0;36m1\u001b[0m\u001b[0;34m]\u001b[0m\u001b[0;34m[\u001b[0m\u001b[0;36m0\u001b[0m\u001b[0;34m]\u001b[0m\u001b[0;34m:\u001b[0m\u001b[0mentry\u001b[0m\u001b[0;34m[\u001b[0m\u001b[0;36m1\u001b[0m\u001b[0;34m]\u001b[0m\u001b[0;34m[\u001b[0m\u001b[0;36m1\u001b[0m\u001b[0;34m]\u001b[0m\u001b[0;34m]\u001b[0m\u001b[0;34m\u001b[0m\u001b[0;34m\u001b[0m\u001b[0m\n\u001b[0m",
      "\u001b[0;31mTypeError\u001b[0m: 'NoneType' object is not subscriptable"
     ]
    }
   ],
   "source": [
    "cutout=frame[entry[0][0]:entry[0][1],entry[1][0]:entry[1][1]]"
   ]
  },
  {
   "cell_type": "code",
   "execution_count": 42,
   "metadata": {},
   "outputs": [],
   "source": [
    "movie_dict[key].write(cutout)\n",
    "movie_dict[key].release()"
   ]
  },
  {
   "cell_type": "code",
   "execution_count": 38,
   "metadata": {},
   "outputs": [
    {
     "data": {
      "text/plain": [
       "{((1217, 206, 114, 72), (1274, 242)): <VideoWriter 0x18d14d1d0>,\n",
       " ((946, 114, 95, 51), (993, 139)): <VideoWriter 0x18d14d650>}"
      ]
     },
     "execution_count": 38,
     "metadata": {},
     "output_type": "execute_result"
    }
   ],
   "source": [
    "movie_dict"
   ]
  },
  {
   "cell_type": "code",
   "execution_count": 43,
   "metadata": {},
   "outputs": [
    {
     "data": {
      "text/plain": [
       "array([[[ 0,  0,  0],\n",
       "        [ 0,  0,  0],\n",
       "        [ 0,  0,  0],\n",
       "        ...,\n",
       "        [ 0,  0,  0],\n",
       "        [ 0,  0,  0],\n",
       "        [ 0,  0,  0]],\n",
       "\n",
       "       [[ 0,  0,  0],\n",
       "        [ 0,  0,  0],\n",
       "        [ 0,  0,  0],\n",
       "        ...,\n",
       "        [ 0,  0,  0],\n",
       "        [ 0,  0,  0],\n",
       "        [ 0,  0,  0]],\n",
       "\n",
       "       [[ 0,  0,  0],\n",
       "        [ 0,  0,  0],\n",
       "        [ 0,  0,  0],\n",
       "        ...,\n",
       "        [ 0,  0,  0],\n",
       "        [ 0,  0,  0],\n",
       "        [ 0,  0,  0]],\n",
       "\n",
       "       ...,\n",
       "\n",
       "       [[79, 79, 79],\n",
       "        [80, 80, 80],\n",
       "        [80, 80, 80],\n",
       "        ...,\n",
       "        [85, 85, 85],\n",
       "        [85, 85, 85],\n",
       "        [85, 85, 85]],\n",
       "\n",
       "       [[79, 79, 79],\n",
       "        [79, 79, 79],\n",
       "        [79, 79, 79],\n",
       "        ...,\n",
       "        [84, 84, 84],\n",
       "        [84, 84, 84],\n",
       "        [84, 84, 84]],\n",
       "\n",
       "       [[79, 79, 79],\n",
       "        [79, 79, 79],\n",
       "        [79, 79, 79],\n",
       "        ...,\n",
       "        [84, 84, 84],\n",
       "        [84, 84, 84],\n",
       "        [84, 84, 84]]], dtype=uint8)"
      ]
     },
     "execution_count": 43,
     "metadata": {},
     "output_type": "execute_result"
    }
   ],
   "source": [
    "cutout"
   ]
  },
  {
   "cell_type": "code",
   "execution_count": 46,
   "metadata": {},
   "outputs": [
    {
     "data": {
      "text/plain": [
       "<matplotlib.image.AxesImage at 0x15a56c7f0>"
      ]
     },
     "execution_count": 46,
     "metadata": {},
     "output_type": "execute_result"
    },
    {
     "data": {
      "image/png": "[encoded data removed]",
      "text/plain": [
       "<Figure size 432x288 with 1 Axes>"
      ]
     },
     "metadata": {
      "needs_background": "light"
     },
     "output_type": "display_data"
    }
   ],
   "source": [
    "out=np.zeros((PADDING_SIZE * 3, PADDING_SIZE * 3, 3), dtype=\"uint8\")\n",
    "out[0:cutout.shape[0],0:cutout.shape[1]]=cutout\n",
    "plt.imshow(out)"
   ]
  },
  {
   "cell_type": "code",
   "execution_count": 50,
   "metadata": {},
   "outputs": [
    {
     "data": {
      "text/plain": [
       "<matplotlib.image.AxesImage at 0x1401dd0a0>"
      ]
     },
     "execution_count": 50,
     "metadata": {},
     "output_type": "execute_result"
    },
    {
     "data": {
      "image/png": "[encoded data removed]",
      "text/plain": [
       "<Figure size 432x288 with 1 Axes>"
      ]
     },
     "metadata": {
      "needs_background": "light"
     },
     "output_type": "display_data"
    }
   ],
   "source": [
    "plt.imshow(output)"
   ]
  },
  {
   "cell_type": "code",
   "execution_count": 59,
   "metadata": {},
   "outputs": [
    {
     "data": {
      "text/plain": [
       "188"
      ]
     },
     "execution_count": 59,
     "metadata": {},
     "output_type": "execute_result"
    }
   ],
   "source": [
    "movie_counter"
   ]
  },
  {
   "cell_type": "code",
   "execution_count": 99,
   "metadata": {},
   "outputs": [
    {
     "data": {
      "text/plain": [
       "4.0"
      ]
     },
     "execution_count": 99,
     "metadata": {},
     "output_type": "execute_result"
    }
   ],
   "source": [
    "np.median([1,2,34,6,7,4,4,4])"
   ]
  },
  {
   "cell_type": "code",
   "execution_count": 103,
   "metadata": {},
   "outputs": [],
   "source": [
    "writer=cv2.VideoWriter(new_name, fourcc,\n",
    "                                                MOVIE_FPS, (PADDING_SIZE*2, PADDING_SIZE*2), False)"
   ]
  },
  {
   "cell_type": "code",
   "execution_count": 120,
   "metadata": {},
   "outputs": [
    {
     "ename": "AttributeError",
     "evalue": "'cv2.VideoWriter' object has no attribute 'new_name'",
     "output_type": "error",
     "traceback": [
      "\u001b[0;31m---------------------------------------------------------------------------\u001b[0m",
      "\u001b[0;31mAttributeError\u001b[0m                            Traceback (most recent call last)",
      "\u001b[0;32m<ipython-input-120-a9c0bf22381c>\u001b[0m in \u001b[0;36m<module>\u001b[0;34m\u001b[0m\n\u001b[0;32m----> 1\u001b[0;31m \u001b[0mwriter\u001b[0m\u001b[0;34m.\u001b[0m\u001b[0mnew_name\u001b[0m\u001b[0;34m\u001b[0m\u001b[0;34m\u001b[0m\u001b[0m\n\u001b[0m",
      "\u001b[0;31mAttributeError\u001b[0m: 'cv2.VideoWriter' object has no attribute 'new_name'"
     ]
    }
   ],
   "source": [
    "writer.new_name"
   ]
  },
  {
   "cell_type": "code",
   "execution_count": null,
   "metadata": {},
   "outputs": [],
   "source": [
    "import tkinter aw"
   ]
  }
 ],
 "metadata": {
  "kernelspec": {
   "display_name": "Python 3",
   "language": "python",
   "name": "python3"
  },
  "language_info": {
   "codemirror_mode": {
    "name": "ipython",
    "version": 3
   },
   "file_extension": ".py",
   "mimetype": "text/x-python",
   "name": "python",
   "nbconvert_exporter": "python",
   "pygments_lexer": "ipython3",
   "version": "3.8.3"
  }
 },
 "nbformat": 4,
 "nbformat_minor": 4
}
